{
 "cells": [
  {
   "cell_type": "markdown",
   "metadata": {},
   "source": [
    "Step 1 remove the silence from the wav files. This should cut down on compute time for the rest of the project"
   ]
  },
  {
   "cell_type": "code",
   "execution_count": 1,
   "metadata": {},
   "outputs": [],
   "source": [
    "import os\n",
    "from alive_progress import alive_bar; import time\n",
    "\n",
    "from pydub import AudioSegment, silence\n",
    "\n",
    "directory_path = r\"C:\\\\Users\\\\tdeyo\\\\Desktop\\\\Code\\\\AVM-Project\\\\1raw\"\n",
    "output = \"C:\\\\Users\\\\tdeyo\\\\Desktop\\\\Code\\\\AVM-Project\\\\2trimmed_audio\\\\\"\n",
    "\n",
    "file_count = sum(len(files) for _, _, files in os.walk(directory_path))\n",
    "\n",
    "counter = 0\n",
    "start_point = 69640\n",
    "\n",
    "with alive_bar(file_count - start_point) as bar:\n",
    "    for root, dirs, files in os.walk(directory_path):\n",
    "        for file in files:\n",
    "\n",
    "            if counter > start_point:\n",
    "                file_path = os.path.join(root, file)\n",
    "                print(file_path)\n",
    "                original_sound = AudioSegment.from_file(file_path)\n",
    "                audio_segments = silence.split_on_silence(original_sound,\n",
    "                                                        min_silence_len = 2000,\n",
    "                                                        silence_thresh = -45,\n",
    "                                                        keep_silence = 500,)\n",
    "                processed_sound = sum(audio_segments)\n",
    "\n",
    "                processed_sound.export(f\"{output}{counter}.wav\", format=\"wav\")\n",
    "            counter += 1\n",
    "            bar()"
   ]
  }
 ],
 "metadata": {
  "kernelspec": {
   "display_name": "Python 3",
   "language": "python",
   "name": "python3"
  },
  "language_info": {
   "codemirror_mode": {
    "name": "ipython",
    "version": 3
   },
   "file_extension": ".py",
   "mimetype": "text/x-python",
   "name": "python",
   "nbconvert_exporter": "python",
   "pygments_lexer": "ipython3",
   "version": "3.12.3"
  }
 },
 "nbformat": 4,
 "nbformat_minor": 2
}
